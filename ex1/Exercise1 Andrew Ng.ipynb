{
 "cells": [
  {
   "cell_type": "markdown",
   "metadata": {},
   "source": [
    "# This is an example of linear regression\n",
    "- The notebook contains these procedures:\n"
   ]
  },
  {
   "cell_type": "markdown",
   "metadata": {},
   "source": [
    "# 1. Data extraction and initialization\n",
    "    - read the data from a .txt file\n",
    "    - plot the data so observe the basic relationship\n",
    "    - initialize some variables such as alpha"
   ]
  },
  {
   "cell_type": "code",
   "execution_count": 221,
   "metadata": {
    "collapsed": false
   },
   "outputs": [
    {
     "data": {
      "image/png": "[encoded data removed]",
      "text/plain": [
       "<matplotlib.figure.Figure at 0x7fa152706f28>"
      ]
     },
     "metadata": {},
     "output_type": "display_data"
    }
   ],
   "source": [
    "%matplotlib inline\n",
    "file = open(\"data/ex1data1.txt\",'r')\n",
    "import pandas as pd\n",
    "import numpy as np\n",
    "import matplotlib.pyplot as plt  \n",
    "\n",
    "x = []\n",
    "y = []\n",
    "for line in file.readlines():\n",
    "    line = line.strip().split(',')\n",
    "    x.append(float(line[0]))\n",
    "    y.append(float(line[1]))\n",
    "\n",
    "# you can only build an numpy array from lists because you can't append data to an array\n",
    "x = np.array(x)\n",
    "y = np.array(y)\n",
    "\n",
    "plt.scatter(x,y,s = 15, marker = 'x', c = 'r')\n",
    "plt.xlabel('Population of City in 10,000s')\n",
    "plt.ylabel('Profit in $10,000s');"
   ]
  },
  {
   "cell_type": "markdown",
   "metadata": {},
   "source": [
    "# 2. Building the Linear Regression model\n",
    "    - initializing learning rate alpha\n",
    "    - evaluation function\n",
    "    - cost function\n",
    "    - gradient descent algorithm"
   ]
  },
  {
   "cell_type": "code",
   "execution_count": 222,
   "metadata": {
    "collapsed": false
   },
   "outputs": [],
   "source": [
    "m = x.size\n",
    "alpha = 0.01\n",
    "\n",
    "def evaluate(theta,x):\n",
    "    return theta[0] + x * theta[1]\n",
    "\n",
    "def costFunction(theta,x,y):\n",
    "    results = [evaluate(theta,i) for i in x ]\n",
    "    difference = np.square((y - results))\n",
    "    cost = difference.sum()/(2*m)\n",
    "    return cost\n",
    "\n",
    "def gradient_descent(theta,x,y):\n",
    "    cost_function_hist = np.zeros(iterations)\n",
    "    for j in range(iterations):\n",
    "        results1=np.zeros(m)\n",
    "        results2=np.zeros(m)\n",
    "        for i in range(m):\n",
    "            results1[i] = evaluate(theta,x[i]) - y[i] \n",
    "            results2[i] = results1[i] * x[i]\n",
    "        theta0temp = theta[0] - alpha /m * results1.sum()\n",
    "        theta1temp = theta[1] - alpha /m * results2.sum()\n",
    "        theta[0] = theta0temp\n",
    "        theta[1] = theta1temp\n",
    "        cost_function_hist[j] = costFunction(theta,x,y)\n",
    "    return theta,cost_function_hist"
   ]
  },
  {
   "cell_type": "markdown",
   "metadata": {},
   "source": [
    "# 3. How does the cost reduce with time?\n",
    "    - we set the number of iterations and initial theta \n",
    "    - run the gradient descent algorithm \n",
    "        - store the history of cost function for plotting\n",
    "    - visualize the cost function value based on number of iterations"
   ]
  },
  {
   "cell_type": "code",
   "execution_count": 223,
   "metadata": {
    "collapsed": false
   },
   "outputs": [
    {
     "data": {
      "text/plain": [
       "(0, 15)"
      ]
     },
     "execution_count": 223,
     "metadata": {},
     "output_type": "execute_result"
    },
    {
     "data": {
      "image/png": "[encoded data removed]",
      "text/plain": [
       "<matplotlib.figure.Figure at 0x7fa152601fd0>"
      ]
     },
     "metadata": {},
     "output_type": "display_data"
    }
   ],
   "source": [
    "iterations = 2000\n",
    "theta = [5,5]\n",
    "\n",
    "theta,history = gradient_descent(theta,x,y)\n",
    "num_iterations = list(range(iterations))\n",
    "plt.plot(history)\n",
    "plt.xlabel(\"Number of iterations\")\n",
    "plt.ylabel(\"Cost\")\n",
    "plt.ylim(0,15)"
   ]
  },
  {
   "cell_type": "markdown",
   "metadata": {},
   "source": [
    "# 4. Visualizing the results of gradient descent\n",
    "    - we set the initial variables: iterations and theta values\n",
    "    - perform the gradient descent\n",
    "    - plot at the same chart\n",
    "        - original data as scatters\n",
    "        - linear regression model as line "
   ]
  },
  {
   "cell_type": "code",
   "execution_count": 224,
   "metadata": {
    "collapsed": false
   },
   "outputs": [
    {
     "name": "stdout",
     "output_type": "stream",
     "text": [
      "Thete values:  [-3.6674258112232634, 1.1700929007745815]\n",
      "Total cost:  4.48171872066\n"
     ]
    },
    {
     "data": {
      "text/plain": [
       "[<matplotlib.lines.Line2D at 0x7fa15262bdd8>]"
      ]
     },
     "execution_count": 224,
     "metadata": {},
     "output_type": "execute_result"
    },
    {
     "data": {
      "image/png": "[encoded data removed]",
      "text/plain": [
       "<matplotlib.figure.Figure at 0x7fa1528af208>"
      ]
     },
     "metadata": {},
     "output_type": "display_data"
    }
   ],
   "source": [
    "iterations = 2000\n",
    "theta = [5,5]\n",
    "\n",
    "theta,history = gradient_descent(theta,x,y)\n",
    "print(\"Theta values: \",theta)\n",
    "print(\"Total cost: \",costFunction(theta,x,y))\n",
    "results = [evaluate(theta,i) for i in x]\n",
    "plt.hold(True)\n",
    "plt.scatter(x, y, c='r', marker='x', linewidths=1)\n",
    "plt.plot(x, results)"
   ]
  },
  {
   "cell_type": "markdown",
   "metadata": {},
   "source": [
    "# 5. Effects of chaning number of iterations\n",
    "    - the next 3 charts show the linear model with smaller number of iteraions\n",
    "    - we keep all variables constant and only change the number of iterations\n",
    "    - *variables also affecting the linear model are:\n",
    "        - learning rate - alpha\n",
    "        - initial value of theta\n",
    "        - possible normalization of data"
   ]
  },
  {
   "cell_type": "code",
   "execution_count": 225,
   "metadata": {
    "collapsed": false
   },
   "outputs": [
    {
     "name": "stdout",
     "output_type": "stream",
     "text": [
      "Thete values:  [-2.5084677120427803, 1.053662988703767]\n",
      "Total cost:  4.65218927794\n"
     ]
    },
    {
     "data": {
      "text/plain": [
       "[<matplotlib.lines.Line2D at 0x7fa1525e4048>]"
      ]
     },
     "execution_count": 225,
     "metadata": {},
     "output_type": "execute_result"
    },
    {
     "data": {
      "image/png": "[encoded data removed]",
      "text/plain": [
       "<matplotlib.figure.Figure at 0x7fa152883630>"
      ]
     },
     "metadata": {},
     "output_type": "display_data"
    }
   ],
   "source": [
    "iterations = 1000\n",
    "\n",
    "theta = [5,5]\n",
    "theta,history = gradient_descent(theta,x,y)\n",
    "print(\"Theta values: \",theta)\n",
    "print(\"Total cost: \",costFunction(theta,x,y))\n",
    "results = [evaluate(theta,i) for i in x]\n",
    "plt.hold(True)\n",
    "plt.scatter(x, y, c='r', marker='x', linewidths=1)\n",
    "plt.plot(x, results)"
   ]
  },
  {
   "cell_type": "code",
   "execution_count": 226,
   "metadata": {
    "collapsed": false
   },
   "outputs": [
    {
     "name": "stdout",
     "output_type": "stream",
     "text": [
      "Thete values:  [1.9794588522830325, 0.60280208559241566]\n",
      "Total cost:  7.61951014369\n"
     ]
    },
    {
     "data": {
      "text/plain": [
       "[<matplotlib.lines.Line2D at 0x7fa1525480b8>]"
      ]
     },
     "execution_count": 226,
     "metadata": {},
     "output_type": "execute_result"
    },
    {
     "data": {
      "image/png": "[encoded data removed]",
      "text/plain": [
       "<matplotlib.figure.Figure at 0x7fa15293c0f0>"
      ]
     },
     "metadata": {},
     "output_type": "display_data"
    }
   ],
   "source": [
    "iterations = 200\n",
    "\n",
    "theta = [5,5]\n",
    "theta,history = gradient_descent(theta,x,y)\n",
    "print(\"Theta values: \",theta)\n",
    "print(\"Total cost: \",costFunction(theta,x,y))\n",
    "results = [evaluate(theta,i) for i in x]\n",
    "plt.hold(True)\n",
    "plt.scatter(x, y, c='r', marker='x', linewidths=1)\n",
    "plt.plot(x, results)"
   ]
  },
  {
   "cell_type": "code",
   "execution_count": 227,
   "metadata": {
    "collapsed": false
   },
   "outputs": [
    {
     "name": "stdout",
     "output_type": "stream",
     "text": [
      "Thete values:  [3.1411288139330322, 0.48609973752145813]\n",
      "Total cost:  8.98507006734\n"
     ]
    },
    {
     "data": {
      "text/plain": [
       "[<matplotlib.lines.Line2D at 0x7fa15252d128>]"
      ]
     },
     "execution_count": 227,
     "metadata": {},
     "output_type": "execute_result"
    },
    {
     "data": {
      "image/png": "[encoded data removed]",
      "text/plain": [
       "<matplotlib.figure.Figure at 0x7fa152689e48>"
      ]
     },
     "metadata": {},
     "output_type": "display_data"
    }
   ],
   "source": [
    "iterations = 100\n",
    "\n",
    "theta = [5,5]\n",
    "theta,history = gradient_descent(theta,x,y)\n",
    "print(\"Theta values: \",theta)\n",
    "print(\"Total cost: \",costFunction(theta,x,y))\n",
    "results = [evaluate(theta,i) for i in x]\n",
    "plt.hold(True)\n",
    "plt.scatter(x, y, c='r', marker='x', linewidths=1)\n",
    "plt.plot(x, results)"
   ]
  },
  {
   "cell_type": "code",
   "execution_count": null,
   "metadata": {
    "collapsed": true
   },
   "outputs": [],
   "source": []
  },
  {
   "cell_type": "code",
   "execution_count": null,
   "metadata": {
    "collapsed": true
   },
   "outputs": [],
   "source": []
  }
 ],
 "metadata": {
  "kernelspec": {
   "display_name": "Python 3",
   "language": "python",
   "name": "python3"
  },
  "language_info": {
   "codemirror_mode": {
    "name": "ipython",
    "version": 3
   },
   "file_extension": ".py",
   "mimetype": "text/x-python",
   "name": "python",
   "nbconvert_exporter": "python",
   "pygments_lexer": "ipython3",
   "version": "3.5.1"
  }
 },
 "nbformat": 4,
 "nbformat_minor": 0
}
