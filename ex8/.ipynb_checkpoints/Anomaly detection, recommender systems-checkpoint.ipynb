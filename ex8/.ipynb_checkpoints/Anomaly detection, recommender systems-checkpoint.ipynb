{
 "cells": [
  {
   "cell_type": "markdown",
   "metadata": {},
   "source": [
    "## 1. Anomaly detection"
   ]
  },
  {
   "cell_type": "markdown",
   "metadata": {},
   "source": [
    "#### 1.1 Loading and plotting the data"
   ]
  },
  {
   "cell_type": "code",
   "execution_count": 141,
   "metadata": {
    "collapsed": true
   },
   "outputs": [],
   "source": [
    "%matplotlib inline\n",
    "import scipy.io\n",
    "import numpy as np\n",
    "import matplotlib.pyplot as plt\n",
    "import re\n",
    "from IPython.display import Image\n",
    "from scipy import optimize"
   ]
  },
  {
   "cell_type": "code",
   "execution_count": 2,
   "metadata": {
    "collapsed": false
   },
   "outputs": [],
   "source": [
    "data = scipy.io.loadmat('data/ex8data1')\n",
    "x = np.array(data['X'])\n",
    "x_val = np.array(data['Xval'])\n",
    "y_val = np.array(data['yval'])"
   ]
  },
  {
   "cell_type": "code",
   "execution_count": 3,
   "metadata": {
    "collapsed": false
   },
   "outputs": [
    {
     "data": {
      "image/png": "[encoded data removed]",
      "text/plain": [
       "<matplotlib.figure.Figure at 0x22417234ac8>"
      ]
     },
     "metadata": {},
     "output_type": "display_data"
    }
   ],
   "source": [
    "plt.figure(figsize=(8,4))\n",
    "plt.scatter(x[:,0],x[:,1],marker = 'x',c='r')\n",
    "plt.xlabel('Latency (ms)')\n",
    "plt.ylabel('Throughput (mb/s)')\n",
    "plt.title('Figure 1: The first dataset.')\n",
    "plt.show()"
   ]
  },
  {
   "cell_type": "markdown",
   "metadata": {},
   "source": [
    "#### 1.2 Gaussian distribution implementation\n",
    "    - we can perform the Gaussian distribution with respect to parameters: mean, variance and data point"
   ]
  },
  {
   "cell_type": "code",
   "execution_count": 4,
   "metadata": {
    "collapsed": true
   },
   "outputs": [],
   "source": [
    "def gaussian_probability(myX,mymu,mysig2):\n",
    "    m = myX.shape[0]\n",
    "    n = myX.shape[1]\n",
    "    if np.ndim(mysig2) == 1:\n",
    "        mysig2 = np.diag(mysig2)\n",
    "    \n",
    "    norm = 1./(np.power((2*np.pi), n/2)*np.sqrt(np.linalg.det(mysig2)))\n",
    "    myinv = np.linalg.inv(mysig2)\n",
    "    \n",
    "    myexp = np.zeros((m,1))\n",
    "    for irow in range(m):\n",
    "        xrow = myX[irow]\n",
    "        myexp[irow] = np.exp(-0.5*((xrow-mymu).T).dot(myinv).dot(xrow-mymu))\n",
    "    return norm*myexp   "
   ]
  },
  {
   "cell_type": "markdown",
   "metadata": {},
   "source": [
    "#### 1.3 Mean and variance calculation"
   ]
  },
  {
   "cell_type": "code",
   "execution_count": 5,
   "metadata": {
    "collapsed": true
   },
   "outputs": [],
   "source": [
    "def gaussian_params(x):\n",
    "    mean=np.zeros((1,len(x[0])))\n",
    "    for i in x:\n",
    "        mean += i\n",
    "    mean = mean/len(x)\n",
    "    mean = mean.flatten()\n",
    "    variance = np.zeros(mean.shape)\n",
    "    for i in x:\n",
    "        variance += (i-mean)**2\n",
    "    variance = variance/len(x)\n",
    "    return mean,variance"
   ]
  },
  {
   "cell_type": "code",
   "execution_count": 6,
   "metadata": {
    "collapsed": false
   },
   "outputs": [
    {
     "name": "stdout",
     "output_type": "stream",
     "text": [
      "[ 14.11222578  14.99771051]\n",
      "[ 1.83263141  1.70974533]\n"
     ]
    }
   ],
   "source": [
    "mean,variance = gaussian_params(x)\n",
    "print(mean)\n",
    "print(variance)"
   ]
  },
  {
   "cell_type": "markdown",
   "metadata": {
    "collapsed": true
   },
   "source": [
    "#### 1.4 Implementing F-Score\n"
   ]
  },
  {
   "cell_type": "code",
   "execution_count": 7,
   "metadata": {
    "collapsed": false
   },
   "outputs": [],
   "source": [
    "def f_score(predictedVal,realVal):\n",
    "    \"\"\"\n",
    "    PredictedVal and realVal must be boolean vectors of [0 1 0 1 1 1 0...] format\n",
    "    F1 = 2 * (P*R)/(P+R)\n",
    "    where P is precision, R is recall\n",
    "    Precision = number of correct positive results divided by number of predicted positive results\n",
    "    P = TP/(TP+FP)\n",
    "    Recall = number of correct positive results divided by number of actual positive results\n",
    "    R = TP/(TP+FN)\n",
    "    • tp is the number of true positives: the ground truth label says it's an\n",
    "        anomaly and our algorithm correctly classified it as an anomaly.\n",
    "    • fp is the number of false positives: the ground truth label says it's not\n",
    "        an anomaly, but our algorithm incorrectly classified it as an anomaly.\n",
    "    • fn is the number of false negatives: the ground truth label says it's an\n",
    "        anomaly, but our algorithm incorrectly classified it as not being anoma-\n",
    "        lous.\n",
    "    \"\"\"\n",
    "    \n",
    "    TP = 0\n",
    "    FP = 0\n",
    "    FN = 0\n",
    "    for i in range(len(predictedVal)):\n",
    "        if (predictedVal[i]==1 and realVal[i]==1):\n",
    "            TP += 1\n",
    "        elif(predictedVal[i]==1 and realVal[i]==0):\n",
    "            FP += 1\n",
    "        elif (predictedVal[i]==0 and realVal[i]==1):\n",
    "            FN += 1\n",
    "    if ((TP+FP) == 0):\n",
    "        return 0\n",
    "    if ((TP+FN)==0):\n",
    "        return 0\n",
    "    P = TP/(TP+FP)\n",
    "    R = TP/(TP+FN)\n",
    "    if ((P+R) == 0):\n",
    "        return 0\n",
    "    \n",
    "    f1score = 2*(P*R)/(P+R)\n",
    "    return f1score"
   ]
  },
  {
   "cell_type": "markdown",
   "metadata": {},
   "source": [
    "#### 1.5 Selecting threshold e"
   ]
  },
  {
   "cell_type": "code",
   "execution_count": 8,
   "metadata": {
    "collapsed": false
   },
   "outputs": [],
   "source": [
    "def select_threshold(probs,realYVal):\n",
    "    realYVal = np.array(realYVal.flatten())                                                                                                                                                                                                                                                                                                                                                                                                                                                                                                                                                                                                                                                                                                                                                                                                   \n",
    "    (best_threshold,best_fscore) = (0,0)\n",
    "    n_steps = 1000\n",
    "    rang = np.linspace(np.min(probs),np.max(probs),n_steps)\n",
    "    \n",
    "    for i in rang:\n",
    "        yval = probs < i\n",
    "        yval = [int(j) for j in yval]\n",
    "        fscore = f_score(yval,realYVal)\n",
    "        if (fscore > best_fscore):\n",
    "            best_threshold = i\n",
    "            best_fscore = fscore\n",
    "    anomalies_found = np.sum(probs <= best_threshold)\n",
    "    return (best_threshold,best_fscore,anomalies_found)"
   ]
  },
  {
   "cell_type": "code",
   "execution_count": 9,
   "metadata": {
    "collapsed": false
   },
   "outputs": [
    {
     "name": "stdout",
     "output_type": "stream",
     "text": [
      "Best threshold 8.999852631901397e-05\n",
      "Best f score 0.8750000000000001\n",
      "Anomalies found 7\n"
     ]
    }
   ],
   "source": [
    "probs = gaussian_probability(x_val,gaussian_params(x)[0],gaussian_params(x)[1])\n",
    "best_threshold,best_fscore,anomalies_found = select_threshold(probs,y_val)\n",
    "print('Best threshold {}'.format(best_threshold))\n",
    "print('Best f score {}'.format(best_fscore))\n",
    "print('Anomalies found {}'.format(anomalies_found))"
   ]
  },
  {
   "cell_type": "code",
   "execution_count": 10,
   "metadata": {
    "collapsed": false
   },
   "outputs": [],
   "source": [
    "datafile = 'data/ex8data2.mat'\n",
    "mat = scipy.io.loadmat( datafile )\n",
    "x2 = mat['X']\n",
    "xcv2 = mat['Xval']\n",
    "ycv2 = mat['yval']"
   ]
  },
  {
   "cell_type": "markdown",
   "metadata": {},
   "source": [
    "#### 1.6 Running anomaly detection on larger dataset\n",
    "    - we find gaussian parameters - mean, variance on training dataset X with 1000 units\n",
    "    - we find the probabilities for cross-validation x's \n",
    "    - then find the best threshold for y cross-validation data\n",
    "    - we can then use those parameters to find the anomalies as in last cess"
   ]
  },
  {
   "cell_type": "code",
   "execution_count": 11,
   "metadata": {
    "collapsed": false
   },
   "outputs": [
    {
     "name": "stdout",
     "output_type": "stream",
     "text": [
      "Best threshold 1.378607498200024e-18\n",
      "Best f score 0.6153846153846154\n"
     ]
    }
   ],
   "source": [
    "probs = gaussian_probability(xcv2,gaussian_params(x2)[0],gaussian_params(x2)[1])\n",
    "best_threshold,best_fscore,anomalies_found = select_threshold(probs,ycv2)\n",
    "print('Best threshold {}'.format(best_threshold))\n",
    "print('Best f score {}'.format(best_fscore))"
   ]
  },
  {
   "cell_type": "code",
   "execution_count": 12,
   "metadata": {
    "collapsed": false
   },
   "outputs": [
    {
     "name": "stdout",
     "output_type": "stream",
     "text": [
      "Found 117 anomalies\n"
     ]
    }
   ],
   "source": [
    "probs = gaussian_probability(x2,gaussian_params(x2)[0],gaussian_params(x2)[1])\n",
    "anoms = [x2[x] for x in range(x2.shape[0]) if probs[x] < best_threshold]\n",
    "print('Found {} anomalies'.format(len(anoms)))"
   ]
  },
  {
   "cell_type": "markdown",
   "metadata": {
    "collapsed": false
   },
   "source": [
    "# 2. Recommender systems"
   ]
  },
  {
   "cell_type": "markdown",
   "metadata": {
    "collapsed": true
   },
   "source": [
    "#### 2.1 Format of the data\n",
    "    - 1. names of movies\n",
    "    - 2. ratings of all movies by each user\n",
    "        - boolean matrix with 0/1 if user rated the movie\n",
    "    - 3. initialized x and theta matrices"
   ]
  },
  {
   "cell_type": "code",
   "execution_count": 124,
   "metadata": {
    "collapsed": false
   },
   "outputs": [
    {
     "name": "stdout",
     "output_type": "stream",
     "text": [
      "['Toy Story (1995)', 'GoldenEye (1995)', 'Four Rooms (1995)', 'Get Shorty (1995)', 'Copycat (1995)']\n",
      "1682\n"
     ]
    }
   ],
   "source": [
    "# MOVIE NAMES\n",
    "movie_names = open('data/movie_ids.txt').read()\n",
    "movie_names = movie_names.split('\\n')\n",
    "for i in range (len(movie_names)):\n",
    "    movie_names[i] = re.sub('^\\d+ ','',movie_names[i])\n",
    "del movie_names[-1]\n",
    "print(movie_names[0:5])\n",
    "print(len(movie_names))"
   ]
  },
  {
   "cell_type": "markdown",
   "metadata": {},
   "source": [
    "#### For our practice reasons we use these smaller parameters"
   ]
  },
  {
   "cell_type": "code",
   "execution_count": 125,
   "metadata": {
    "collapsed": true
   },
   "outputs": [],
   "source": [
    "# ORIGINAL:\n",
    "# X.shape: (1682, 10) -> 1682 movies with 10 features each\n",
    "# Theta.shape: (943, 10) -> 943 users with 10 feature preferences each\n",
    "\n",
    "# FOR PRACTICE:\n",
    "# X.shape: (5, 3) -> 5 movies with 3 features each\n",
    "# Theta.shape: (4, 3) -> 4 users with 3 feature preferences each\n",
    "nu = 4\n",
    "nf = 3\n",
    "nm = 5"
   ]
  },
  {
   "cell_type": "code",
   "execution_count": 126,
   "metadata": {
    "collapsed": false
   },
   "outputs": [
    {
     "name": "stdout",
     "output_type": "stream",
     "text": [
      "x.shape: (5, 3) -> 5 movies with 3 features each\n",
      "theta.shape: (4, 3) -> 4 users with 3 feature preferences each\n",
      "ratings.shape: (5, 4) -> 5 movies with 4 features each\n"
     ]
    }
   ],
   "source": [
    "# INITIAL X AND THETA PARAMETERS\n",
    "movies = scipy.io.loadmat('data/ex8_movies.mat')\n",
    "movies2 = scipy.io.loadmat('data/ex8_movieParams.mat')\n",
    "x = np.array(movies2['X'][0:nm,0:nf])\n",
    "theta = np.array(movies2['Theta'][0:nu,0:nf])\n",
    "ratings = np.array(movies['Y'])[0:nm,0:nu]\n",
    "R = np.array(movies['R'])[0:nm,0:nu]\n",
    "print('x.shape: {} -> {} movies with {} features each'.format(x.shape,x.shape[0],x.shape[1]))\n",
    "print('theta.shape: {} -> {} users with {} feature preferences each'.format(theta.shape,theta.shape[0],theta.shape[1]))\n",
    "print('ratings.shape: {} -> {} movies with {} features each'.format(ratings.shape,ratings.shape[0],ratings.shape[1]))\n"
   ]
  },
  {
   "cell_type": "markdown",
   "metadata": {},
   "source": [
    "#### 2.2 Function for flattening the arrays\n",
    "    - in order to use fmin cg we need to have a vectorized form of the matrix\n",
    "    - for this we will use the flatten and reshape functions\n",
    "    - most of the changes will happen with theta and x params, so we will implement it for them"
   ]
  },
  {
   "cell_type": "code",
   "execution_count": 131,
   "metadata": {
    "collapsed": true
   },
   "outputs": [],
   "source": [
    "def flatten(thetas,x):\n",
    "    return np.append(thetas.flatten(), x.flatten())\n",
    "\n",
    "def reshape(params):\n",
    "    thetas = params[0:nu*nf].reshape((nu,nf))\n",
    "    x = params[nu*nf:].reshape((nm,nf))\n",
    "    return [thetas,x]"
   ]
  },
  {
   "cell_type": "code",
   "execution_count": 133,
   "metadata": {
    "collapsed": false
   },
   "outputs": [
    {
     "name": "stdout",
     "output_type": "stream",
     "text": [
      "(27,)\n",
      "(4, 3)\n"
     ]
    }
   ],
   "source": [
    "print(flatten(theta,x).shape)\n",
    "print(reshape(flatten(theta,x))[0].shape)"
   ]
  },
  {
   "cell_type": "markdown",
   "metadata": {},
   "source": [
    "#### 2.3 Implementing  the cost function"
   ]
  },
  {
   "cell_type": "code",
   "execution_count": 134,
   "metadata": {
    "collapsed": false
   },
   "outputs": [
    {
     "data": {
      "image/png": "[encoded data removed]",
      "text/plain": [
       "<IPython.core.display.Image object>"
      ]
     },
     "execution_count": 134,
     "metadata": {},
     "output_type": "execute_result"
    }
   ],
   "source": [
    "Image(filename='data/reg_cost.png')"
   ]
  },
  {
   "cell_type": "code",
   "execution_count": 135,
   "metadata": {
    "collapsed": false
   },
   "outputs": [],
   "source": [
    "def cost_func_regularized(params,y,R,lambd=0):\n",
    "    theta,x = reshape(params)\n",
    "    new_ratings = x.dot(theta.T)\n",
    "    new_ratings *= R # this makes all bad fits = 0\n",
    "    cost = 0.5*((new_ratings-y)**2).sum()\n",
    "    theta_cost = lambd/2 * (theta**2).sum()\n",
    "    x_cost = lambd/2 * (x**2).sum()\n",
    "    return cost+theta_cost+x_cost"
   ]
  },
  {
   "cell_type": "code",
   "execution_count": 136,
   "metadata": {
    "collapsed": false
   },
   "outputs": [
    {
     "name": "stdout",
     "output_type": "stream",
     "text": [
      "Cost with lambda = 0: 22.2246037257\n",
      "Cost with lambda = 1.5: 31.3440562443\n",
      "--> These are the correct outcomes\n"
     ]
    }
   ],
   "source": [
    "print(\"Cost with lambda = 0:\", cost_func_regularized(flatten(theta,x),ratings,R))\n",
    "print(\"Cost with lambda = 1.5:\", cost_func_regularized(flatten(theta,x),ratings,R,lambd=1.5))\n",
    "print(\"--> These are the correct outcomes\")"
   ]
  },
  {
   "cell_type": "markdown",
   "metadata": {},
   "source": [
    "#### 2.4 Implementing the gradient"
   ]
  },
  {
   "cell_type": "code",
   "execution_count": 137,
   "metadata": {
    "collapsed": false
   },
   "outputs": [
    {
     "data": {
      "image/png": "[encoded data removed]",
      "text/plain": [
       "<IPython.core.display.Image object>"
      ]
     },
     "execution_count": 137,
     "metadata": {},
     "output_type": "execute_result"
    }
   ],
   "source": [
    "Image(filename='data/reg_grad.png')"
   ]
  },
  {
   "cell_type": "code",
   "execution_count": 138,
   "metadata": {
    "collapsed": false
   },
   "outputs": [],
   "source": [
    "def gradient(params,y,R,lambd=0):\n",
    "    # theta = 4x3 \n",
    "    # x = 5x3\n",
    "    # y = 5x4\n",
    "    theta,x = reshape(params)\n",
    "    new_ratings = x.dot(theta.T)\n",
    "    new_ratings *= R\n",
    "    cost = new_ratings - y # 5x4\n",
    "    # x_grad must be 5x3\n",
    "    x_grad  = cost.dot(theta) + lambd*x\n",
    "    # theta_grad must be 4x3\n",
    "    theta_grad = cost.T.dot(x) + lambd*theta\n",
    "    return flatten(theta_grad,x_grad)\n",
    "    "
   ]
  },
  {
   "cell_type": "code",
   "execution_count": 139,
   "metadata": {
    "collapsed": false
   },
   "outputs": [
    {
     "name": "stdout",
     "output_type": "stream",
     "text": [
      "[-10.5680202    4.62776019  -7.16004443  -3.05099006   1.16441367\n",
      "  -3.47410789   0.           0.           0.           0.           0.           0.\n",
      "  -2.52899165   7.57570308  -1.89979026  -0.56819597   3.35265031\n",
      "  -0.52339845  -0.83240713   4.91163297  -0.76677878  -0.38358278\n",
      "   2.26333698  -0.35334048  -0.80378006   4.74271842  -0.74040871]\n",
      "--> This output is correct\n"
     ]
    }
   ],
   "source": [
    "print(gradient(flatten(theta,x),ratings,R,lambd=0))\n",
    "print('--> This output is correct')"
   ]
  },
  {
   "cell_type": "code",
   "execution_count": 142,
   "metadata": {
    "collapsed": true
   },
   "outputs": [],
   "source": [
    "# ORIGINAL:\n",
    "# X.shape: (1682, 10) -> 1682 movies with 10 features each\n",
    "# Theta.shape: (943, 10) -> 943 users with 10 feature preferences each\n",
    "\n",
    "nu = 943\n",
    "nf = 10\n",
    "nm = 1682\n",
    "x = np.array(movies2['X'][0:nm,0:nf])\n",
    "theta = np.array(movies2['Theta'][0:nu,0:nf])\n",
    "ratings = np.array(movies['Y'])[0:nm,0:nu]\n",
    "R = np.array(movies['R'])[0:nm,0:nu]"
   ]
  },
  {
   "cell_type": "code",
   "execution_count": null,
   "metadata": {
    "collapsed": false
   },
   "outputs": [],
   "source": [
    "result = optimize.fmin_cg(cost_func_regularized,x0=flatten(theta,x),fprime=gradient,args=(ratings,R,0))"
   ]
  },
  {
   "cell_type": "code",
   "execution_count": null,
   "metadata": {
    "collapsed": true
   },
   "outputs": [],
   "source": []
  },
  {
   "cell_type": "code",
   "execution_count": null,
   "metadata": {
    "collapsed": true
   },
   "outputs": [],
   "source": []
  },
  {
   "cell_type": "code",
   "execution_count": null,
   "metadata": {
    "collapsed": true
   },
   "outputs": [],
   "source": []
  },
  {
   "cell_type": "code",
   "execution_count": null,
   "metadata": {
    "collapsed": true
   },
   "outputs": [],
   "source": []
  }
 ],
 "metadata": {
  "kernelspec": {
   "display_name": "Python 3",
   "language": "python",
   "name": "python3"
  },
  "language_info": {
   "codemirror_mode": {
    "name": "ipython",
    "version": 3
   },
   "file_extension": ".py",
   "mimetype": "text/x-python",
   "name": "python",
   "nbconvert_exporter": "python",
   "pygments_lexer": "ipython3",
   "version": "3.5.1"
  }
 },
 "nbformat": 4,
 "nbformat_minor": 0
}
