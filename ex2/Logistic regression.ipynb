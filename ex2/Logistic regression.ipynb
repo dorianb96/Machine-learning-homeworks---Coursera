{
 "cells": [
  {
   "cell_type": "markdown",
   "metadata": {},
   "source": [
    "# Logistic regression  "
   ]
  },
  {
   "cell_type": "code",
   "execution_count": 1,
   "metadata": {
    "collapsed": true
   },
   "outputs": [],
   "source": [
    "%matplotlib inline\n",
    "import numpy as np\n",
    "import matplotlib.pyplot as plt"
   ]
  },
  {
   "cell_type": "markdown",
   "metadata": {},
   "source": [
    "# 1. Loading data from our dataset"
   ]
  },
  {
   "cell_type": "code",
   "execution_count": 2,
   "metadata": {
    "collapsed": false
   },
   "outputs": [
    {
     "name": "stdout",
     "output_type": "stream",
     "text": [
      "[[ 0.]\n",
      " [ 0.]\n",
      " [ 1.]\n",
      " [ 1.]]\n",
      "[[  1.          30.28671077  43.89499752]\n",
      " [  1.          35.84740877  72.90219803]\n",
      " [  1.          60.18259939  86.3085521 ]\n",
      " [  1.          79.03273605  75.34437644]]\n",
      "(100, 1)\n",
      "(100, 3)\n"
     ]
    }
   ],
   "source": [
    "data = np.loadtxt('data/ex2data1.txt',delimiter=',')\n",
    "\n",
    "# m = number of rows\n",
    "m = len(data)\n",
    "# x is a np.array of 1 with dimensions (row X len(row[0]) ie columns)\n",
    "x = np.ones((m,len(data[0])))\n",
    "# now we populate the data of 2D array, still we know column 0 is populated with 1s\n",
    "for col in range (len(data[0])-1):\n",
    "    x[:,col+1] = data[:,col]\n",
    "# now just extract the last columns for y values\n",
    "y = np.zeros((m,1))\n",
    "y[:,0] = data[:,len(data[0])-1]\n",
    "\n",
    "print(y[1:5])\n",
    "print(x[1:5,:])\n",
    "print(y.shape)\n",
    "print(x.shape)"
   ]
  },
  {
   "cell_type": "code",
   "execution_count": 3,
   "metadata": {
    "collapsed": true
   },
   "outputs": [],
   "source": [
    "def plotData(data, label_x, label_y, label_pos, label_neg, axes=None):\n",
    "    # Get indexes for class 0 and class 1\n",
    "    neg = data[:,2] == 0\n",
    "    pos = data[:,2] == 1\n",
    "    \n",
    "    # If no specific axes object has been passed, get the current axes.\n",
    "    if axes == None:\n",
    "        axes = plt.gca()\n",
    "    axes.scatter(data[pos][:,0], data[pos][:,1], marker='+', c='k', s=60, linewidth=2, label=label_pos)\n",
    "    axes.scatter(data[neg][:,0], data[neg][:,1], c='y', s=60, label=label_neg)\n",
    "    axes.set_xlabel(label_x)\n",
    "    axes.set_ylabel(label_y)\n",
    "    axes.legend(frameon= True, fancybox = True);"
   ]
  },
  {
   "cell_type": "code",
   "execution_count": 4,
   "metadata": {
    "collapsed": false
   },
   "outputs": [
    {
     "data": {
      "image/png": "[encoded data removed]",
      "text/plain": [
       "<matplotlib.figure.Figure at 0x294c97d76a0>"
      ]
     },
     "metadata": {},
     "output_type": "display_data"
    }
   ],
   "source": [
    "plotData(data, 'Exam 1 score', 'Exam 2 score', 'Admitted', 'Not admitted')"
   ]
  },
  {
   "cell_type": "markdown",
   "metadata": {},
   "source": [
    "# 2. Initializing the theta parameters"
   ]
  },
  {
   "cell_type": "code",
   "execution_count": 5,
   "metadata": {
    "collapsed": false
   },
   "outputs": [
    {
     "name": "stdout",
     "output_type": "stream",
     "text": [
      "(3, 1)\n"
     ]
    }
   ],
   "source": [
    "def init_theta():\n",
    "    return np.random.rand(len(x[0]),1)*0\n",
    "\n",
    "print(init_theta().shape)"
   ]
  },
  {
   "cell_type": "markdown",
   "metadata": {},
   "source": [
    "# 3. Defining the sigmoid function"
   ]
  },
  {
   "cell_type": "code",
   "execution_count": 6,
   "metadata": {
    "collapsed": false
   },
   "outputs": [],
   "source": [
    "def sigmoid(x):\n",
    "    return 1/(1+np.exp(-x))"
   ]
  },
  {
   "cell_type": "markdown",
   "metadata": {},
   "source": [
    "# 4. Defining the evaluationg function"
   ]
  },
  {
   "cell_type": "code",
   "execution_count": 7,
   "metadata": {
    "collapsed": false
   },
   "outputs": [],
   "source": [
    "'''\n",
    "there are two options:\n",
    "-a) we multiply the whole matrix by the theta parameters\n",
    "    ie. [x00 x10 x20 x30]              [theta1]         [x00*theta1 + x10*theta2 + x20*theta3 + x30*theta4]\n",
    "        [x01 x11 x21 x31]              [theta2]         [x01*theta1 + x11*theta2 + x21*theta3 + x31*theta4]\n",
    "        .....                 x        [theta3]     =     ....\n",
    "        [x0n x1n x2n x3n]              [theta4]         [x0n*theta1 + x1n*theta2 + x2n*theta3 + x3n*theta4]\n",
    "        \n",
    "        ie nx4 X 4x1 = nx1\n",
    "-b) we multiply each row specially against theta parameters\n",
    "    - ie extract\n",
    "    x[0] ===>  [x00 x10 x20 x30] \n",
    "   \n",
    "    and with theta being\n",
    "     [theta1]       \n",
    "     [theta2]        \n",
    "     [theta3]  \n",
    "     [theta4]\n",
    "    then just x.dot(theta) (ie 1x4 X 4x1 = 1)\n",
    "    or also we can do theta.T.dot(x.T) by andrew ng notation\n",
    "'''\n",
    "\n",
    "\n",
    "def evaluate(x,theta):\n",
    "    res = x.dot(theta)\n",
    "    return res\n"
   ]
  },
  {
   "cell_type": "markdown",
   "metadata": {},
   "source": [
    "## 5. Defining the cost,gradient and gradient descent functions"
   ]
  },
  {
   "cell_type": "markdown",
   "metadata": {},
   "source": [
    "We define the cost function by the formula from Andrew Ng\n",
    "- this is a lot of magic but we used the formula from andrew ng's exercise file"
   ]
  },
  {
   "cell_type": "code",
   "execution_count": 8,
   "metadata": {
    "collapsed": false
   },
   "outputs": [],
   "source": [
    "def cost(theta, x, y):\n",
    "    h = sigmoid(x.dot(theta))\n",
    "    # here y.T is 1x100 and log(h) is just log(x) applied to every field in matrix x\n",
    "    # the 1-y is just a matrix of 100x1 one's minus the 100x1 y matrix, and then we use it's transpose to multiply by log(h) 100x1\n",
    "    # the values of matrix multiplication are actually the sum we are looking for, try to prove it if you don't understand!!\n",
    "    summ = (-1/m)*  (y.T.dot(np.log(h))  +  (1-y).T.dot(np.log(1 - h)))\n",
    "    return summ[0]"
   ]
  },
  {
   "cell_type": "code",
   "execution_count": 9,
   "metadata": {
    "collapsed": false
   },
   "outputs": [
    {
     "name": "stdout",
     "output_type": "stream",
     "text": [
      "[ 0.69314718]\n"
     ]
    }
   ],
   "source": [
    "# TESTS\n",
    "theta = init_theta()\n",
    "cost_value = cost(theta,x,y)\n",
    "print(cost_value)"
   ]
  },
  {
   "cell_type": "markdown",
   "metadata": {},
   "source": [
    "In the course Andrew Ng asks for the value of initial gradient"
   ]
  },
  {
   "cell_type": "code",
   "execution_count": 21,
   "metadata": {
    "collapsed": false
   },
   "outputs": [],
   "source": [
    "def gradient(theta,x,y):\n",
    "    return (1/m)*(x.T.dot((sigmoid(x.dot(theta))-y)))"
   ]
  },
  {
   "cell_type": "code",
   "execution_count": 22,
   "metadata": {
    "collapsed": false
   },
   "outputs": [
    {
     "name": "stdout",
     "output_type": "stream",
     "text": [
      "[[ -0.1       ]\n",
      " [-12.00921659]\n",
      " [-11.26284221]]\n"
     ]
    }
   ],
   "source": [
    "# TESTS\n",
    "theta = init_theta()\n",
    "gradient_value = gradient(theta,x,y)\n",
    "print(gradient_value)"
   ]
  },
  {
   "cell_type": "markdown",
   "metadata": {},
   "source": [
    "Now we define the gradient used for testing how well the function can be optimized"
   ]
  },
  {
   "cell_type": "code",
   "execution_count": 23,
   "metadata": {
    "collapsed": true
   },
   "outputs": [],
   "source": [
    "iterations=1000000\n",
    "alpha = 0.001\n",
    "def gradient_descent(theta,x,y):\n",
    "    for i in range (iterations):\n",
    "        theta = theta - alpha*(1/m)*(x.T.dot((sigmoid(x.dot(theta))-y)))\n",
    "    return theta"
   ]
  },
  {
   "cell_type": "code",
   "execution_count": 24,
   "metadata": {
    "collapsed": false
   },
   "outputs": [
    {
     "name": "stdout",
     "output_type": "stream",
     "text": [
      "initial theta [[ 0.]\n",
      " [ 0.]\n",
      " [ 0.]]\n",
      "old cost value [ 0.69314718]\n",
      "new theta [[-15.39517866]\n",
      " [  0.12825989]\n",
      " [  0.12247929]]\n",
      "new_cost_value [ 0.22465416]\n"
     ]
    }
   ],
   "source": [
    "# TESTS\n",
    "theta = init_theta()\n",
    "print('initial theta', theta)\n",
    "print('old cost value',cost(theta,x,y))\n",
    "theta = gradient_descent(theta,x,y)\n",
    "print('new theta', theta)\n",
    "print('new_cost_value',cost(theta,x,y))"
   ]
  },
  {
   "cell_type": "markdown",
   "metadata": {},
   "source": [
    "### 6. Let's see how our results perform"
   ]
  },
  {
   "cell_type": "code",
   "execution_count": 88,
   "metadata": {
    "collapsed": false
   },
   "outputs": [
    {
     "name": "stdout",
     "output_type": "stream",
     "text": [
      "0 [ 0.]\n",
      "0 [ 0.]\n",
      "0 [ 0.]\n",
      "1 [ 1.]\n",
      "1 [ 1.]\n",
      "Matched: 89.0 % percent\n"
     ]
    }
   ],
   "source": [
    "def predict(x):\n",
    "    # we can easily get the final result\n",
    "    result = sigmoid(x.dot(theta))\n",
    "    # now we have to get the sticking point of 0.5\n",
    "    result = [int(i>=0.5) for i in result]\n",
    "    return result\n",
    "\n",
    "# now lets\n",
    "match_count = 0\n",
    "result = predict(x)\n",
    "for i in range(len(y)):\n",
    "    if (i < 5):\n",
    "        print(result[i],y[i])\n",
    "    if (result[i] == y[i]):\n",
    "        match_count +=1\n",
    "print(\"Matched:\",match_count/len(y)*100,'% percent')"
   ]
  },
  {
   "cell_type": "markdown",
   "metadata": {},
   "source": [
    "# Regularized logistic regression"
   ]
  },
  {
   "cell_type": "markdown",
   "metadata": {},
   "source": [
    "## Loading the data"
   ]
  },
  {
   "cell_type": "code",
   "execution_count": 89,
   "metadata": {
    "collapsed": false
   },
   "outputs": [
    {
     "name": "stdout",
     "output_type": "stream",
     "text": [
      "[[ 1.        0.051267  0.69956 ]\n",
      " [ 1.       -0.092742  0.68494 ]\n",
      " [ 1.       -0.21371   0.69225 ]\n",
      " [ 1.       -0.375     0.50219 ]\n",
      " [ 1.       -0.51325   0.46564 ]]\n",
      "[[ 1.]\n",
      " [ 1.]\n",
      " [ 1.]\n",
      " [ 1.]\n",
      " [ 1.]]\n"
     ]
    }
   ],
   "source": [
    "data2 = np.loadtxt('data/ex2data2.txt',delimiter=',')\n",
    "m2 = len(data2)\n",
    "x2 = np.ones((m2,len(data2[0])))\n",
    "# now we populate the data of 2D array, still we know column 0 is populated with 1s\n",
    "for col in range (len(data2[0])-1):\n",
    "    x2[:,col+1] = data2[:,col]\n",
    "# now just extract the last columns for y values\n",
    "y2 = np.zeros((m2,1))\n",
    "y2[:,0] = data2[:,len(data[0])-1]\n",
    "print(x2[0:5])\n",
    "print(y2[20:25])"
   ]
  },
  {
   "cell_type": "code",
   "execution_count": 90,
   "metadata": {
    "collapsed": false
   },
   "outputs": [
    {
     "data": {
      "image/png": "[encoded data removed]",
      "text/plain": [
       "<matplotlib.figure.Figure at 0x294caa55160>"
      ]
     },
     "metadata": {},
     "output_type": "display_data"
    }
   ],
   "source": [
    "plotData(data2, 'Microchip Test 1', 'Microchip Test 2', 'y = 1', 'y = 0')"
   ]
  },
  {
   "cell_type": "markdown",
   "metadata": {},
   "source": [
    "### This is the feature mapping procedure\n",
    "    - since it's explained poorly and premade by Andrew in MATLAB, I just used the standard library"
   ]
  },
  {
   "cell_type": "code",
   "execution_count": 91,
   "metadata": {
    "collapsed": false
   },
   "outputs": [
    {
     "name": "stdout",
     "output_type": "stream",
     "text": [
      "(118, 3)\n",
      "(118, 28)\n"
     ]
    }
   ],
   "source": [
    "from sklearn.preprocessing import PolynomialFeatures\n",
    "poly = PolynomialFeatures(6)\n",
    "xx = poly.fit_transform(x2[:,1:3])\n",
    "print(x2.shape)\n",
    "print(xx.shape)"
   ]
  },
  {
   "cell_type": "code",
   "execution_count": 92,
   "metadata": {
    "collapsed": false
   },
   "outputs": [],
   "source": [
    "def init_theta2():\n",
    "    return np.random.rand(len(xx[0]),1)\n",
    "\n",
    "def cost2(theta,x,y,lambda_val):\n",
    "    h = sigmoid(x.dot(theta))\n",
    "    m = len(x)\n",
    "    val = (-1/m) * (y.T.dot(np.log(h)) + (1-y).T.dot(np.log(1 - h))) + lambda_val/(2*m) * (theta**2).sum()\n",
    "    return val"
   ]
  },
  {
   "cell_type": "code",
   "execution_count": 98,
   "metadata": {
    "collapsed": false
   },
   "outputs": [
    {
     "data": {
      "text/plain": [
       "array([[ 1.27611326]])"
      ]
     },
     "execution_count": 98,
     "metadata": {},
     "output_type": "execute_result"
    }
   ],
   "source": [
    "theta2 = init_theta2()\n",
    "lambda_val = 1\n",
    "iterations = 100000\n",
    "alpha = 0.01\n",
    "cost2(theta2,xx,y2,lambda_val)"
   ]
  },
  {
   "cell_type": "code",
   "execution_count": 99,
   "metadata": {
    "collapsed": false
   },
   "outputs": [],
   "source": [
    "def gradient_descent2(x,y,theta,lambda_val):\n",
    "    for i in range (iterations):\n",
    "        theta = theta - alpha*( (1/m)*(x.T.dot((sigmoid(x.dot(theta)) - y))) - ((lambda_val/len(x))*theta))\n",
    "    return theta\n",
    "\n",
    "def gradient_descent22(x,y,theta,lambda_val):\n",
    "    for i in range (iterations):\n",
    "        theta = theta*(1-alpha*lambda_val/len(x)) - alpha*( (1/m)*(x.T.dot((sigmoid(x.dot(theta)) - y))))\n",
    "    return theta"
   ]
  },
  {
   "cell_type": "code",
   "execution_count": 100,
   "metadata": {
    "collapsed": false
   },
   "outputs": [],
   "source": [
    "theta_new = gradient_descent22(xx,y2,init_theta2()*0,lambda_val)\n"
   ]
  },
  {
   "cell_type": "code",
   "execution_count": 101,
   "metadata": {
    "collapsed": false
   },
   "outputs": [
    {
     "name": "stdout",
     "output_type": "stream",
     "text": [
      "Matched: 81.35593220338984 % percent\n"
     ]
    }
   ],
   "source": [
    "def predict(x,theta):\n",
    "    # we can easily get the final result\n",
    "    result = sigmoid(x.dot(theta))\n",
    "    # now we have to get the sticking point of 0.5\n",
    "    result = [int(i>=0.5) for i in result]\n",
    "    return result\n",
    "\n",
    "# now lets\n",
    "match_count = 0\n",
    "result2 = predict(xx,theta_new)\n",
    "for i in range(len(xx)):\n",
    "    if (result2[i] == y2[i]):\n",
    "        match_count +=1\n",
    "print(\"Matched:\",match_count/len(xx)*100,'% percent')"
   ]
  },
  {
   "cell_type": "code",
   "execution_count": 102,
   "metadata": {
    "collapsed": false
   },
   "outputs": [
    {
     "name": "stdout",
     "output_type": "stream",
     "text": [
      "[[ 0.53618069]]\n"
     ]
    }
   ],
   "source": [
    "print(cost2(theta_new,xx,y2,lambda_val))"
   ]
  },
  {
   "cell_type": "code",
   "execution_count": null,
   "metadata": {
    "collapsed": true
   },
   "outputs": [],
   "source": []
  },
  {
   "cell_type": "code",
   "execution_count": null,
   "metadata": {
    "collapsed": true
   },
   "outputs": [],
   "source": []
  },
  {
   "cell_type": "code",
   "execution_count": null,
   "metadata": {
    "collapsed": true
   },
   "outputs": [],
   "source": []
  },
  {
   "cell_type": "code",
   "execution_count": null,
   "metadata": {
    "collapsed": true
   },
   "outputs": [],
   "source": []
  },
  {
   "cell_type": "code",
   "execution_count": null,
   "metadata": {
    "collapsed": true
   },
   "outputs": [],
   "source": []
  },
  {
   "cell_type": "code",
   "execution_count": null,
   "metadata": {
    "collapsed": true
   },
   "outputs": [],
   "source": []
  },
  {
   "cell_type": "code",
   "execution_count": null,
   "metadata": {
    "collapsed": true
   },
   "outputs": [],
   "source": []
  },
  {
   "cell_type": "code",
   "execution_count": null,
   "metadata": {
    "collapsed": true
   },
   "outputs": [],
   "source": []
  },
  {
   "cell_type": "code",
   "execution_count": null,
   "metadata": {
    "collapsed": true
   },
   "outputs": [],
   "source": [
    "\n"
   ]
  }
 ],
 "metadata": {
  "kernelspec": {
   "display_name": "Python 3",
   "language": "python",
   "name": "python3"
  },
  "language_info": {
   "codemirror_mode": {
    "name": "ipython",
    "version": 3
   },
   "file_extension": ".py",
   "mimetype": "text/x-python",
   "name": "python",
   "nbconvert_exporter": "python",
   "pygments_lexer": "ipython3",
   "version": "3.5.1"
  }
 },
 "nbformat": 4,
 "nbformat_minor": 0
}
